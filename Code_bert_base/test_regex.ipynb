{
 "cells": [
  {
   "cell_type": "code",
   "execution_count": 1,
   "metadata": {},
   "outputs": [],
   "source": [
    "import re"
   ]
  },
  {
   "cell_type": "code",
   "execution_count": 25,
   "metadata": {},
   "outputs": [],
   "source": [
    "sentence = \"why seroquel can make me put on 20 over kg: it acts like an insulin blocker or something\"\n",
    "token = \"put me over 20 kg\"\n",
    "token2 = \"##quel\""
   ]
  },
  {
   "cell_type": "code",
   "execution_count": 26,
   "metadata": {},
   "outputs": [],
   "source": [
    "all_words_in_span = token2.split()"
   ]
  },
  {
   "cell_type": "code",
   "execution_count": 28,
   "metadata": {},
   "outputs": [
    {
     "name": "stdout",
     "output_type": "stream",
     "text": [
      "First word\n",
      "##quel\n",
      "Last word\n",
      "##quel\n",
      "First word again\n",
      "quel\n"
     ]
    }
   ],
   "source": [
    "first_word_in_predicted_span_token = all_words_in_span[0]\n",
    "last_word_in_predicted_span_token = all_words_in_span[-1]\n",
    "\n",
    "print(\"First word\")\n",
    "print(first_word_in_predicted_span_token)\n",
    "\n",
    "print(\"Last word\")\n",
    "print(last_word_in_predicted_span_token)\n",
    "\n",
    "first_word_in_predicted_span_token = first_word_in_predicted_span_token[2:]\n",
    "print(\"First word again\")\n",
    "print(first_word_in_predicted_span_token)"
   ]
  },
  {
   "cell_type": "code",
   "execution_count": 33,
   "metadata": {},
   "outputs": [
    {
     "name": "stdout",
     "output_type": "stream",
     "text": [
      "<_sre.SRE_Match object; span=(4, 12), match='seroquel'>\n",
      "4\n"
     ]
    }
   ],
   "source": [
    "# begin_regex = f\"\\w*\"{first_word_in_predicted_span_token}\"\\b\"\n",
    "span_begin = re.search(r\"\\w*%s\\b\"%first_word_in_predicted_span_token, sentence)\n",
    "print(span_begin)\n",
    "print(span_begin.start())\n"
   ]
  },
  {
   "cell_type": "code",
   "execution_count": 14,
   "metadata": {},
   "outputs": [
    {
     "name": "stdout",
     "output_type": "stream",
     "text": [
      "put on 20 over kg: it acts like an insulin blocker or something\n"
     ]
    }
   ],
   "source": [
    "rest_of_sentence = sentence[span_begin.start():]\n",
    "print(rest_of_sentence)"
   ]
  },
  {
   "cell_type": "code",
   "execution_count": 15,
   "metadata": {},
   "outputs": [],
   "source": [
    "span_end = re.search(last_word_in_predicted_span_token, rest_of_sentence)"
   ]
  },
  {
   "cell_type": "code",
   "execution_count": 17,
   "metadata": {},
   "outputs": [
    {
     "name": "stdout",
     "output_type": "stream",
     "text": [
      "42\n"
     ]
    }
   ],
   "source": [
    "print(span_end.end()+span_begin.start())"
   ]
  },
  {
   "cell_type": "code",
   "execution_count": 18,
   "metadata": {},
   "outputs": [],
   "source": [
    "begin_regex = \"\\w*\" + first_word_in_predicted_span_token + \"\\b\"\n"
   ]
  },
  {
   "cell_type": "code",
   "execution_count": null,
   "metadata": {},
   "outputs": [],
   "source": []
  }
 ],
 "metadata": {
  "kernelspec": {
   "display_name": "Python 3.6.9 64-bit",
   "language": "python",
   "name": "python3"
  },
  "language_info": {
   "codemirror_mode": {
    "name": "ipython",
    "version": 3
   },
   "file_extension": ".py",
   "mimetype": "text/x-python",
   "name": "python",
   "nbconvert_exporter": "python",
   "pygments_lexer": "ipython3",
   "version": "3.6.9"
  },
  "orig_nbformat": 4,
  "vscode": {
   "interpreter": {
    "hash": "31f2aee4e71d21fbe5cf8b01ff0e069b9275f58929596ceb00d14d90e3e16cd6"
   }
  }
 },
 "nbformat": 4,
 "nbformat_minor": 2
}
