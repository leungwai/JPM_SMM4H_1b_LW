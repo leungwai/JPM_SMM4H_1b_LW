{
 "cells": [
  {
   "cell_type": "code",
   "execution_count": 1,
   "metadata": {},
   "outputs": [],
   "source": [
    "import pandas as pd\n",
    "import numpy as np"
   ]
  },
  {
   "cell_type": "code",
   "execution_count": 3,
   "metadata": {},
   "outputs": [
    {
     "data": {
      "text/html": [
       "<div>\n",
       "<style scoped>\n",
       "    .dataframe tbody tr th:only-of-type {\n",
       "        vertical-align: middle;\n",
       "    }\n",
       "\n",
       "    .dataframe tbody tr th {\n",
       "        vertical-align: top;\n",
       "    }\n",
       "\n",
       "    .dataframe thead th {\n",
       "        text-align: right;\n",
       "    }\n",
       "</style>\n",
       "<table border=\"1\" class=\"dataframe\">\n",
       "  <thead>\n",
       "    <tr style=\"text-align: right;\">\n",
       "      <th></th>\n",
       "      <th>tweet_id</th>\n",
       "      <th>tweet</th>\n",
       "    </tr>\n",
       "  </thead>\n",
       "  <tbody>\n",
       "    <tr>\n",
       "      <th>0</th>\n",
       "      <td>SMM4H2022e4OIETplIkjV0I8V</td>\n",
       "      <td>oh, that spiriva is too much $...how bout not ...</td>\n",
       "    </tr>\n",
       "    <tr>\n",
       "      <th>1</th>\n",
       "      <td>SMM4H2022ZMATVYdmmKWGkRoh</td>\n",
       "      <td>@USER___________ @USER_____ I found NSAIDS did...</td>\n",
       "    </tr>\n",
       "    <tr>\n",
       "      <th>2</th>\n",
       "      <td>SMM4H2022V61Tilw8DJvqNqLT</td>\n",
       "      <td>Having delicious Tysabri 4 lunch. Then off 2 @...</td>\n",
       "    </tr>\n",
       "    <tr>\n",
       "      <th>3</th>\n",
       "      <td>SMM4H2022mKSqbziPej1yvp4X</td>\n",
       "      <td>the glorification of adderall during finals is...</td>\n",
       "    </tr>\n",
       "    <tr>\n",
       "      <th>4</th>\n",
       "      <td>SMM4H2022RV9KzDljn78QqAqi</td>\n",
       "      <td>holy shit the 10mg saphris tablet tastes infin...</td>\n",
       "    </tr>\n",
       "    <tr>\n",
       "      <th>...</th>\n",
       "      <td>...</td>\n",
       "      <td>...</td>\n",
       "    </tr>\n",
       "    <tr>\n",
       "      <th>10964</th>\n",
       "      <td>SMM4H2022ecknKTI3uRThqNXt</td>\n",
       "      <td>you know it's finals week when you find addera...</td>\n",
       "    </tr>\n",
       "    <tr>\n",
       "      <th>10965</th>\n",
       "      <td>SMM4H2022pLCtFgOQqJaU8i3O</td>\n",
       "      <td>Zostavax has to be reconstituted. Everyone is ...</td>\n",
       "    </tr>\n",
       "    <tr>\n",
       "      <th>10966</th>\n",
       "      <td>SMM4H2022kSh6JvmRUcyR1lzz</td>\n",
       "      <td>Janssen Files EU Marketing Application for VEL...</td>\n",
       "    </tr>\n",
       "    <tr>\n",
       "      <th>10967</th>\n",
       "      <td>SMM4H2022i1YwnECBKPiDqTvR</td>\n",
       "      <td>It's probably a good thing I'm not on adderall...</td>\n",
       "    </tr>\n",
       "    <tr>\n",
       "      <th>10968</th>\n",
       "      <td>SMM4H2022NVFJ38j8nXAx5uab</td>\n",
       "      <td>IVE SLAMMED MY WHOLE LIFE WITH ADDERALL I'VE F...</td>\n",
       "    </tr>\n",
       "  </tbody>\n",
       "</table>\n",
       "<p>10969 rows × 2 columns</p>\n",
       "</div>"
      ],
      "text/plain": [
       "                        tweet_id  \\\n",
       "0      SMM4H2022e4OIETplIkjV0I8V   \n",
       "1      SMM4H2022ZMATVYdmmKWGkRoh   \n",
       "2      SMM4H2022V61Tilw8DJvqNqLT   \n",
       "3      SMM4H2022mKSqbziPej1yvp4X   \n",
       "4      SMM4H2022RV9KzDljn78QqAqi   \n",
       "...                          ...   \n",
       "10964  SMM4H2022ecknKTI3uRThqNXt   \n",
       "10965  SMM4H2022pLCtFgOQqJaU8i3O   \n",
       "10966  SMM4H2022kSh6JvmRUcyR1lzz   \n",
       "10967  SMM4H2022i1YwnECBKPiDqTvR   \n",
       "10968  SMM4H2022NVFJ38j8nXAx5uab   \n",
       "\n",
       "                                                   tweet  \n",
       "0      oh, that spiriva is too much $...how bout not ...  \n",
       "1      @USER___________ @USER_____ I found NSAIDS did...  \n",
       "2      Having delicious Tysabri 4 lunch. Then off 2 @...  \n",
       "3      the glorification of adderall during finals is...  \n",
       "4      holy shit the 10mg saphris tablet tastes infin...  \n",
       "...                                                  ...  \n",
       "10964  you know it's finals week when you find addera...  \n",
       "10965  Zostavax has to be reconstituted. Everyone is ...  \n",
       "10966  Janssen Files EU Marketing Application for VEL...  \n",
       "10967  It's probably a good thing I'm not on adderall...  \n",
       "10968  IVE SLAMMED MY WHOLE LIFE WITH ADDERALL I'VE F...  \n",
       "\n",
       "[10969 rows x 2 columns]"
      ]
     },
     "execution_count": 3,
     "metadata": {},
     "output_type": "execute_result"
    }
   ],
   "source": [
    "df = pd.read_csv('test_old.tsv', sep='\\t', names=['tweet_id', 'tweet'])\n",
    "df"
   ]
  },
  {
   "cell_type": "code",
   "execution_count": 4,
   "metadata": {},
   "outputs": [],
   "source": [
    "df.to_csv('test.tsv', sep='\\t', index=False)"
   ]
  },
  {
   "cell_type": "code",
   "execution_count": null,
   "metadata": {},
   "outputs": [],
   "source": []
  }
 ],
 "metadata": {
  "kernelspec": {
   "display_name": "Python 3.6.9 64-bit",
   "language": "python",
   "name": "python3"
  },
  "language_info": {
   "codemirror_mode": {
    "name": "ipython",
    "version": 3
   },
   "file_extension": ".py",
   "mimetype": "text/x-python",
   "name": "python",
   "nbconvert_exporter": "python",
   "pygments_lexer": "ipython3",
   "version": "3.6.9"
  },
  "orig_nbformat": 4,
  "vscode": {
   "interpreter": {
    "hash": "31f2aee4e71d21fbe5cf8b01ff0e069b9275f58929596ceb00d14d90e3e16cd6"
   }
  }
 },
 "nbformat": 4,
 "nbformat_minor": 2
}
